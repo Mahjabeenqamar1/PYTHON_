{
  "nbformat": 4,
  "nbformat_minor": 0,
  "metadata": {
    "colab": {
      "provenance": [],
      "authorship_tag": "ABX9TyP/jsuAE/PrjpG5+Ge7+xcZ",
      "include_colab_link": true
    },
    "kernelspec": {
      "name": "python3",
      "display_name": "Python 3"
    },
    "language_info": {
      "name": "python"
    }
  },
  "cells": [
    {
      "cell_type": "markdown",
      "metadata": {
        "id": "view-in-github",
        "colab_type": "text"
      },
      "source": [
        "<a href=\"https://colab.research.google.com/github/Mahjabeenqamar1/PYTHON_/blob/main/P_PRACTICES.ipynb\" target=\"_parent\"><img src=\"https://colab.research.google.com/assets/colab-badge.svg\" alt=\"Open In Colab\"/></a>"
      ]
    },
    {
      "cell_type": "code",
      "execution_count": null,
      "metadata": {
        "colab": {
          "base_uri": "https://localhost:8080/"
        },
        "id": "mstjAVlR53r_",
        "outputId": "6a18813a-1a0a-4d5b-dadb-2b4404655cc5"
      },
      "outputs": [
        {
          "output_type": "stream",
          "name": "stdout",
          "text": [
            "['ALI', 'USMAN', 123, '45']\n"
          ]
        }
      ],
      "source": [
        "A = ['ALI', 'USMAN', 123 , '45']\n",
        "print(A)"
      ]
    },
    {
      "cell_type": "code",
      "source": [
        "#() , [], {}\n",
        "mylist = [\"apple\", \"banana\", \"cherry\"]"
      ],
      "metadata": {
        "id": "KLVuLvc09v3U"
      },
      "execution_count": null,
      "outputs": []
    },
    {
      "cell_type": "code",
      "source": [
        "mylist"
      ],
      "metadata": {
        "colab": {
          "base_uri": "https://localhost:8080/"
        },
        "id": "t96jeKJO-RU5",
        "outputId": "d99169a3-843e-4320-b68d-66f8cc8eddfa"
      },
      "execution_count": null,
      "outputs": [
        {
          "output_type": "execute_result",
          "data": {
            "text/plain": [
              "['apple', 'banana', 'cherry']"
            ]
          },
          "metadata": {},
          "execution_count": 3
        }
      ]
    },
    {
      "cell_type": "code",
      "source": [
        "list1 = [\"abc\", \"34\",45, True, 40.4, \"male\"]\n",
        "list1"
      ],
      "metadata": {
        "colab": {
          "base_uri": "https://localhost:8080/"
        },
        "id": "3jKHhGeF-St7",
        "outputId": "0f6645cb-44cd-4829-e541-28d2e379cabe"
      },
      "execution_count": null,
      "outputs": [
        {
          "output_type": "execute_result",
          "data": {
            "text/plain": [
              "['abc', '34', 45, True, 40.4, 'male']"
            ]
          },
          "metadata": {},
          "execution_count": 4
        }
      ]
    },
    {
      "cell_type": "markdown",
      "source": [
        "#Python Collections (Arrays)\n",
        "There are four collection data types in the Python programming language:\n",
        "\n",
        "**List** is a collection which is ordered and changeable. Allows duplicate members.\n",
        "\n",
        "**Tuple** is a collection which is ordered and unchangeable. Allows duplicate members.\n",
        "\n",
        "\n",
        "**Set** is a collection which is unordered, unchangeable*, and unindexed. No duplicate members.\n",
        "\n",
        "Dictionary is a collection which is ordered** and changeable. No duplicate members."
      ],
      "metadata": {
        "id": "703VW4is_w22"
      }
    },
    {
      "cell_type": "code",
      "source": [
        "mytuple = (\"apple\", \"banana\", \"cherry\")\n",
        "mytuple\n",
        "\n"
      ],
      "metadata": {
        "colab": {
          "base_uri": "https://localhost:8080/"
        },
        "id": "epBBsyTW-yHB",
        "outputId": "6f0382a7-6fb1-4847-aa27-576e07660831"
      },
      "execution_count": null,
      "outputs": [
        {
          "output_type": "execute_result",
          "data": {
            "text/plain": [
              "('apple', 'banana', 'cherry')"
            ]
          },
          "metadata": {},
          "execution_count": 9
        }
      ]
    },
    {
      "cell_type": "code",
      "source": [
        "info = {\"Carla\", 19, False, 5.9, 19}\n",
        "print(info)"
      ],
      "metadata": {
        "id": "I3KbWWpnAri_",
        "colab": {
          "base_uri": "https://localhost:8080/"
        },
        "outputId": "c1dd4f64-9d21-4630-fce5-89689b5535e9"
      },
      "execution_count": null,
      "outputs": [
        {
          "output_type": "stream",
          "name": "stdout",
          "text": [
            "{False, 19, 5.9, 'Carla'}\n"
          ]
        }
      ]
    },
    {
      "cell_type": "code",
      "source": [
        "value_1 = {122: 45, 123: 89, 567: 69, 670: 69}\n",
        "value_2 = {222: 67, 566: 90}\n",
        "\n",
        "#value_1.update(value_2)\n",
        "#value_1.clear()\n",
        "#value_1.pop(122)\n",
        "#value_1.popitem()\n",
        "#del value_1[122]\n",
        "\n",
        "\n",
        "print(value_1)"
      ],
      "metadata": {
        "colab": {
          "base_uri": "https://localhost:8080/"
        },
        "id": "ogCXWOZtca3S",
        "outputId": "1218c0cf-eaad-4167-e7b9-732f8778639e"
      },
      "execution_count": null,
      "outputs": [
        {
          "output_type": "stream",
          "name": "stdout",
          "text": [
            "{123: 89, 567: 69, 670: 69}\n"
          ]
        }
      ]
    },
    {
      "cell_type": "code",
      "source": [
        "info = {'name':'Ali', 'age':19, 'eligible':True}\n",
        "# print(info)\n",
        "# print(info.keys())\n",
        "# print(info.values())\n",
        "\n",
        "for key in info.keys():\n",
        "  print(f\"The value corresponding to the key {key} is {info[key]}\")\n",
        "\n",
        "# print(info.items())\n",
        "# for key, value in info.items():\n",
        "#   print(f\"The value corresponding to the key {key} is {value}\")"
      ],
      "metadata": {
        "colab": {
          "base_uri": "https://localhost:8080/"
        },
        "id": "Npne96CuHfNE",
        "outputId": "f2e91263-444e-441c-90fc-ec94e13a6462"
      },
      "execution_count": null,
      "outputs": [
        {
          "output_type": "stream",
          "name": "stdout",
          "text": [
            "The value corresponding to the key name is Ali\n",
            "The value corresponding to the key age is 19\n",
            "The value corresponding to the key eligible is True\n"
          ]
        }
      ]
    },
    {
      "cell_type": "code",
      "source": [
        "thisdict = {\n",
        "  \"brand\": \"Ford\",\n",
        "  \"model\": \"Mustang\",\n",
        "  \"year\": 1964\n",
        "}\n"
      ],
      "metadata": {
        "id": "mPYEQbsOr9-3"
      },
      "execution_count": null,
      "outputs": []
    },
    {
      "cell_type": "code",
      "source": [
        "thisdict"
      ],
      "metadata": {
        "colab": {
          "base_uri": "https://localhost:8080/"
        },
        "id": "6_i7V3eisAI-",
        "outputId": "a806c4f6-14c9-4f32-9c12-655896c1e988"
      },
      "execution_count": null,
      "outputs": [
        {
          "output_type": "execute_result",
          "data": {
            "text/plain": [
              "{'brand': 'Ford', 'model': 'Mustang', 'year': 1964}"
            ]
          },
          "metadata": {},
          "execution_count": 5
        }
      ]
    },
    {
      "cell_type": "code",
      "source": [
        "thisdict = {\n",
        "  \"brand\": \"Ford\",\n",
        "  \"model\": \"Mustang\",\n",
        "  \"year\": 1964\n",
        "}\n",
        "\n",
        "thisdict[\"year\"]"
      ],
      "metadata": {
        "colab": {
          "base_uri": "https://localhost:8080/"
        },
        "id": "bj5uQYyLsCSy",
        "outputId": "467af674-609c-49cb-de3f-d7fb7e0f55e4"
      },
      "execution_count": null,
      "outputs": [
        {
          "output_type": "execute_result",
          "data": {
            "text/plain": [
              "1964"
            ]
          },
          "metadata": {},
          "execution_count": 7
        }
      ]
    },
    {
      "cell_type": "code",
      "source": [
        "dict = {'0':1, '1':2, '2':3}\n",
        "x = input(\"Enter value to check \")\n",
        "\n",
        "if x in dict.keys():\n",
        "    print(True)\n",
        "else:\n",
        "    print(False)"
      ],
      "metadata": {
        "colab": {
          "base_uri": "https://localhost:8080/"
        },
        "id": "1pU3z_HntAAL",
        "outputId": "17917ceb-09ca-4ed7-a722-68e698e7dce1"
      },
      "execution_count": null,
      "outputs": [
        {
          "output_type": "stream",
          "name": "stdout",
          "text": [
            "Enter value to check 5\n",
            "False\n"
          ]
        }
      ]
    },
    {
      "cell_type": "code",
      "source": [
        "main_record= {}\n",
        "main_key = 'student'\n",
        "main_id = 0\n",
        "student = False\n",
        "while True:\n",
        "    flag = input('Do you want to enter students? Enter 1 for yes and 0 for no: ')\n",
        "    if flag == '1':\n",
        "        total_marks = 0\n",
        "        obtained_marks = 0\n",
        "        student_name = input('Enter name of the student: ')\n",
        "        gardian_name = input('Enter name of the student-gardian: ')\n",
        "        class_name = input('Enter Grade: ')\n",
        "        number_of_subjects = int(input('Enter number of subjects: '))\n",
        "        subjects = []\n",
        "        while number_of_subjects > 0:\n",
        "            subject  = input(\"Enter subject: \")\n",
        "            subjects.append(subject)\n",
        "            number_of_subjects-= 1\n",
        "        id = main_key + str(main_id)\n",
        "        if id not in main_record.keys():\n",
        "            main_record[id] = {}\n",
        "        main_record[id]['name'] = student_name\n",
        "        main_record[id]['gardian name'] = gardian_name\n",
        "        main_record[id]['class'] = class_name\n",
        "        main_record[id]['grade'] = None\n",
        "        main_record[id]['subjects'] = {}\n",
        "        for i in subjects:\n",
        "            if i not in main_record[id]['subjects'].keys():\n",
        "                temp = int(input('Enter the total marks of {} subject: '.format(i)))\n",
        "                total_marks += temp\n",
        "                main_record[id]['subjects'][i+' total'] = temp\n",
        "                temp = int(input('Enter the obtained marks of {} subject: '.format(i)))\n",
        "                obtained_marks += temp\n",
        "                main_record[id]['subjects'][i + ' obtained'] = temp\n",
        "        main_record[id]['total marks'] = total_marks\n",
        "        main_record[id]['obtained marks'] = obtained_marks\n",
        "        percent = obtained_marks/total_marks*100\n",
        "        main_record[id]['percentage obtained'] = percent\n",
        "\n",
        "        # Grading Scheme\n",
        "        if percent>= 80:\n",
        "            grade = 'A'\n",
        "        elif 80>  percent >= 70:\n",
        "            grade = 'B'\n",
        "        elif 70 >  percent >= 60:\n",
        "            grade = 'C'\n",
        "        elif 60>  percent >= 50:\n",
        "            grade = 'D'\n",
        "        elif percent < 50:\n",
        "            grade = 'F'\n",
        "        main_record[id]['grade'] = grade\n",
        "    else:\n",
        "        break\n",
        "\n",
        "\n",
        "\n",
        "print(main_record)\n",
        "\n"
      ],
      "metadata": {
        "colab": {
          "base_uri": "https://localhost:8080/",
          "height": 391
        },
        "id": "VHeH7W9rvpck",
        "outputId": "0488b5b3-5d14-451b-f299-adfe15f473fa"
      },
      "execution_count": null,
      "outputs": [
        {
          "output_type": "error",
          "ename": "KeyboardInterrupt",
          "evalue": "ignored",
          "traceback": [
            "\u001b[0;31m---------------------------------------------------------------------------\u001b[0m",
            "\u001b[0;31mKeyboardInterrupt\u001b[0m                         Traceback (most recent call last)",
            "\u001b[0;32m<ipython-input-21-5413ed69ed88>\u001b[0m in \u001b[0;36m<cell line: 5>\u001b[0;34m()\u001b[0m\n\u001b[1;32m      4\u001b[0m \u001b[0mstudent\u001b[0m \u001b[0;34m=\u001b[0m \u001b[0;32mFalse\u001b[0m\u001b[0;34m\u001b[0m\u001b[0;34m\u001b[0m\u001b[0m\n\u001b[1;32m      5\u001b[0m \u001b[0;32mwhile\u001b[0m \u001b[0;32mTrue\u001b[0m\u001b[0;34m:\u001b[0m\u001b[0;34m\u001b[0m\u001b[0;34m\u001b[0m\u001b[0m\n\u001b[0;32m----> 6\u001b[0;31m     \u001b[0mflag\u001b[0m \u001b[0;34m=\u001b[0m \u001b[0minput\u001b[0m\u001b[0;34m(\u001b[0m\u001b[0;34m'Do you want to enter students? Enter 1 for yes and 0 for no: '\u001b[0m\u001b[0;34m)\u001b[0m\u001b[0;34m\u001b[0m\u001b[0;34m\u001b[0m\u001b[0m\n\u001b[0m\u001b[1;32m      7\u001b[0m     \u001b[0;32mif\u001b[0m \u001b[0mflag\u001b[0m \u001b[0;34m==\u001b[0m \u001b[0;34m'1'\u001b[0m\u001b[0;34m:\u001b[0m\u001b[0;34m\u001b[0m\u001b[0;34m\u001b[0m\u001b[0m\n\u001b[1;32m      8\u001b[0m         \u001b[0mtotal_marks\u001b[0m \u001b[0;34m=\u001b[0m \u001b[0;36m0\u001b[0m\u001b[0;34m\u001b[0m\u001b[0;34m\u001b[0m\u001b[0m\n",
            "\u001b[0;32m/usr/local/lib/python3.10/dist-packages/ipykernel/kernelbase.py\u001b[0m in \u001b[0;36mraw_input\u001b[0;34m(self, prompt)\u001b[0m\n\u001b[1;32m    849\u001b[0m                 \u001b[0;34m\"raw_input was called, but this frontend does not support input requests.\"\u001b[0m\u001b[0;34m\u001b[0m\u001b[0;34m\u001b[0m\u001b[0m\n\u001b[1;32m    850\u001b[0m             )\n\u001b[0;32m--> 851\u001b[0;31m         return self._input_request(str(prompt),\n\u001b[0m\u001b[1;32m    852\u001b[0m             \u001b[0mself\u001b[0m\u001b[0;34m.\u001b[0m\u001b[0m_parent_ident\u001b[0m\u001b[0;34m,\u001b[0m\u001b[0;34m\u001b[0m\u001b[0;34m\u001b[0m\u001b[0m\n\u001b[1;32m    853\u001b[0m             \u001b[0mself\u001b[0m\u001b[0;34m.\u001b[0m\u001b[0m_parent_header\u001b[0m\u001b[0;34m,\u001b[0m\u001b[0;34m\u001b[0m\u001b[0;34m\u001b[0m\u001b[0m\n",
            "\u001b[0;32m/usr/local/lib/python3.10/dist-packages/ipykernel/kernelbase.py\u001b[0m in \u001b[0;36m_input_request\u001b[0;34m(self, prompt, ident, parent, password)\u001b[0m\n\u001b[1;32m    893\u001b[0m             \u001b[0;32mexcept\u001b[0m \u001b[0mKeyboardInterrupt\u001b[0m\u001b[0;34m:\u001b[0m\u001b[0;34m\u001b[0m\u001b[0;34m\u001b[0m\u001b[0m\n\u001b[1;32m    894\u001b[0m                 \u001b[0;31m# re-raise KeyboardInterrupt, to truncate traceback\u001b[0m\u001b[0;34m\u001b[0m\u001b[0;34m\u001b[0m\u001b[0m\n\u001b[0;32m--> 895\u001b[0;31m                 \u001b[0;32mraise\u001b[0m \u001b[0mKeyboardInterrupt\u001b[0m\u001b[0;34m(\u001b[0m\u001b[0;34m\"Interrupted by user\"\u001b[0m\u001b[0;34m)\u001b[0m \u001b[0;32mfrom\u001b[0m \u001b[0;32mNone\u001b[0m\u001b[0;34m\u001b[0m\u001b[0;34m\u001b[0m\u001b[0m\n\u001b[0m\u001b[1;32m    896\u001b[0m             \u001b[0;32mexcept\u001b[0m \u001b[0mException\u001b[0m \u001b[0;32mas\u001b[0m \u001b[0me\u001b[0m\u001b[0;34m:\u001b[0m\u001b[0;34m\u001b[0m\u001b[0;34m\u001b[0m\u001b[0m\n\u001b[1;32m    897\u001b[0m                 \u001b[0mself\u001b[0m\u001b[0;34m.\u001b[0m\u001b[0mlog\u001b[0m\u001b[0;34m.\u001b[0m\u001b[0mwarning\u001b[0m\u001b[0;34m(\u001b[0m\u001b[0;34m\"Invalid Message:\"\u001b[0m\u001b[0;34m,\u001b[0m \u001b[0mexc_info\u001b[0m\u001b[0;34m=\u001b[0m\u001b[0;32mTrue\u001b[0m\u001b[0;34m)\u001b[0m\u001b[0;34m\u001b[0m\u001b[0;34m\u001b[0m\u001b[0m\n",
            "\u001b[0;31mKeyboardInterrupt\u001b[0m: Interrupted by user"
          ]
        }
      ]
    },
    {
      "cell_type": "code",
      "source": [],
      "metadata": {
        "id": "GoZnkoSBwA3T"
      },
      "execution_count": null,
      "outputs": []
    }
  ]
}